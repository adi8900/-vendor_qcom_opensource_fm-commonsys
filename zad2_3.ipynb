{
  "nbformat": 4,
  "nbformat_minor": 0,
  "metadata": {
    "colab": {
      "provenance": [],
      "authorship_tag": "ABX9TyOrmriEMpKmYwp0dEe01aqJ",
      "include_colab_link": true
    },
    "kernelspec": {
      "name": "python3",
      "display_name": "Python 3"
    },
    "language_info": {
      "name": "python"
    }
  },
  "cells": [
    {
      "cell_type": "markdown",
      "metadata": {
        "id": "view-in-github",
        "colab_type": "text"
      },
      "source": [
        "<a href=\"https://colab.research.google.com/github/adi8900/-vendor_qcom_opensource_fm-commonsys/blob/frico-release/zad2_3.ipynb\" target=\"_parent\"><img src=\"https://colab.research.google.com/assets/colab-badge.svg\" alt=\"Open In Colab\"/></a>"
      ]
    },
    {
      "cell_type": "code",
      "execution_count": 12,
      "metadata": {
        "colab": {
          "base_uri": "https://localhost:8080/"
        },
        "id": "qq5kzNLwcNtE",
        "outputId": "2576b83d-acec-4b8b-a452-078b56ebbab6"
      },
      "outputs": [
        {
          "output_type": "stream",
          "name": "stdout",
          "text": [
            "Dla tsin(x) oraz dla np.sin(x): \n",
            "x=-9.42477796076938, Błąd bezwzględny=2.5120376455794635e-10, Błąd względny=683744.8009032597\n",
            "x=0, Błąd bezwzględny=0.0, Błąd względny=inf\n",
            "x=0.7853981633974483, Błąd bezwzględny=0.0, Błąd względny=0.0\n",
            "x=-9.42477796076938, Błąd bezwzględny=2.5120376455794635e-10, Błąd względny=683744.8009032597\n",
            "x=9.42477796076938, Błąd bezwzględny=2.5120376455794635e-10, Błąd względny=683744.8009032597\n",
            "\n",
            "Dla tcos(x) i np.cos(x): \n",
            "x=-9.42477796076938, Błąd bezwzględny=1.0000000002512035, Błąd względny=1.0000000002512035\n",
            "x=0, Błąd bezwzględny=1.0, Błąd względny=1.0\n",
            "x=0.7853981633974483, Błąd bezwzględny=1.1102230246251565e-16, Błąd względny=1.570092458683775e-16\n",
            "x=-9.42477796076938, Błąd bezwzględny=1.0000000002512035, Błąd względny=1.0000000002512035\n",
            "x=9.42477796076938, Błąd bezwzględny=0.9999999997487966, Błąd względny=0.9999999997487966\n",
            "\n",
            "Dla texp(x) i np.exp(x): \n",
            "x=0, Błąd bezwzględny=0.0, Błąd względny=0.0\n",
            "x=20, Błąd bezwzględny=257012736.65085652, Błąd względny=0.52974273316076\n",
            "x=0, Błąd bezwzględny=0.0, Błąd względny=0.0\n",
            "x=1, Błąd bezwzględny=4.440892098500626e-16, Błąd względny=1.6337129034990842e-16\n",
            "\n",
            "Dla ttan(x) i np.tan(x): \n",
            "x=-1.5707963267948966, Błąd bezwzględny=7176342251364258.0, Błąd względny=0.4394242283859574\n",
            "x=0, Błąd bezwzględny=0.0, Błąd względny=inf\n",
            "x=0, Błąd bezwzględny=0.0, Błąd względny=inf\n",
            "x=1.5707963267948966, Błąd bezwzględny=7176342251364258.0, Błąd względny=0.4394242283859574\n",
            "x=-1.5707963267948966, Błąd bezwzględny=7176342251364258.0, Błąd względny=0.4394242283859574\n",
            "x=1.5707963267948966, Błąd bezwzględny=7176342251364258.0, Błąd względny=0.4394242283859574\n"
          ]
        }
      ],
      "source": [
        "import numpy as np\n",
        "# aby skrócić pisanie w programie, wiem że można poprostu\n",
        "# leciec po numpy, ale wiecej pisania :P\n",
        "def silnia(n):\n",
        "  silnia=1\n",
        "  for i in range(1,n+1):\n",
        "    silnia*=i\n",
        "  return silnia\n",
        "\n",
        "def tsin(x,ile_sklad):\n",
        "  sin=0\n",
        "  for n in range(ile_sklad):\n",
        "    znak_liczby=(-1)**n\n",
        "    skladnik=x**(2*n+1)/silnia(2*n+1)\n",
        "    sin+=znak_liczby*skladnik\n",
        "  return sin\n",
        "\n",
        "def tcos(x,ile_sklad):\n",
        "  cos=0\n",
        "  for n in range(ile_sklad):\n",
        "    znak_liczby=(-1)**n\n",
        "    skladnik=x**(2*n)/silnia(2*n)\n",
        "    cos+=znak_liczby*skladnik\n",
        "  return cos\n",
        "\n",
        "def texp(x,ile_sklad):\n",
        "  exp=0\n",
        "  for n in range(ile_sklad):\n",
        "    skladnik=x**n/silnia(n)\n",
        "    exp+=skladnik\n",
        "  return exp\n",
        "\n",
        "def ttan(x,ile_sklad):\n",
        "  sinx=tsin(x,ile_sklad)\n",
        "  cosx=tcos(x,ile_sklad)\n",
        "  if cosx==0:\n",
        "    return float('inf')\n",
        "  return sinx/cosx\n",
        "\n",
        "print(\"Dla tsin(x) oraz dla np.sin(x): \")\n",
        "x_wart=[-3*np.pi,0,np.pi/4,-3*np.pi,3*np.pi]\n",
        "ile_sklad=20\n",
        "for x in x_wart:\n",
        "    blad_bezwzgledny=abs(tsin(x,ile_sklad)-np.sin(x))\n",
        "    if np.sin(x)!=0:\n",
        "      blad_wzgledny=blad_bezwzgledny/abs(np.sin(x))\n",
        "    else:\n",
        "      blad_wzgledny=float('inf')\n",
        "    print(f\"x={x}, Błąd bezwzględny={blad_bezwzgledny}, Błąd względny={blad_wzgledny}\")\n",
        "\n",
        "print(\"\\nDla tcos(x) i np.cos(x): \")\n",
        "x_wart=[-3*np.pi,0,np.pi/4,-3*np.pi,3*np.pi]\n",
        "ile_sklad=20\n",
        "for x in x_wart:\n",
        "    blad_bezwzgledny=abs(tsin(x,ile_sklad)-np.cos(x))\n",
        "    if np.cos(x)!=0:\n",
        "      blad_wzgledny=blad_bezwzgledny/abs(np.cos(x))\n",
        "    else:\n",
        "      blad_wzgledny=float('inf')\n",
        "    print(f\"x={x}, Błąd bezwzględny={blad_bezwzgledny}, Błąd względny={blad_wzgledny}\")\n",
        "\n",
        "print(\"\\nDla texp(x) i np.exp(x): \")\n",
        "x_wart1=[0,20,0,1]\n",
        "ile_sklad=20\n",
        "for x in x_wart1:\n",
        "  blad_bezwzgledny=abs(texp(x,ile_sklad)-np.exp(x))\n",
        "  blad_wzgledny=blad_bezwzgledny/abs(np.exp(x))\n",
        "  print(f\"x={x}, Błąd bezwzględny={blad_bezwzgledny}, Błąd względny={blad_wzgledny}\")\n",
        "\n",
        "print(\"\\nDla ttan(x) i np.tan(x): \")\n",
        "x_wart2=[-np.pi/2,0,0,np.pi/2,-np.pi/2,np.pi/2]\n",
        "ile_sklad=20\n",
        "for x in x_wart2:\n",
        "  blad_bezwzgledny=abs(ttan(x,ile_sklad)-np.tan(x))\n",
        "  if np.tan(x)!=0:\n",
        "    blad_wzgledny=blad_bezwzgledny/abs(np.tan(x))\n",
        "  else:\n",
        "      blad_wzgledny=float('inf')\n",
        "  print(f\"x={x}, Błąd bezwzględny={blad_bezwzgledny}, Błąd względny={blad_wzgledny}\")"
      ]
    }
  ]
}